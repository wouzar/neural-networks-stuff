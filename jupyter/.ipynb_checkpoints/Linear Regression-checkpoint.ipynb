{
 "cells": [
  {
   "cell_type": "markdown",
   "metadata": {},
   "source": [
    "## Linear Regression"
   ]
  },
  {
   "cell_type": "code",
   "execution_count": 6,
   "metadata": {
    "collapsed": true
   },
   "outputs": [],
   "source": [
    "import numpy as np\n",
    "import matplotlib.pyplot as plt"
   ]
  },
  {
   "cell_type": "code",
   "execution_count": null,
   "metadata": {
    "collapsed": true
   },
   "outputs": [],
   "source": [
    "def h(x):\n",
    "    return theta0 + theta1 * x"
   ]
  },
  {
   "cell_type": "code",
   "execution_count": 47,
   "metadata": {
    "collapsed": false
   },
   "outputs": [],
   "source": [
    "def linear_regression(xs, ys):\n",
    "    a = 0.005 # learning rate\n",
    "    theta0 = 1 \n",
    "    theta1 = 2 # initial values\n",
    "    counter = 0\n",
    "    ITER_NUM = 1000 \n",
    "    m = xs.__len__ # number of data inputs\n",
    "    \n",
    "    # main loop\n",
    "    temp0 = theta0\n",
    "    temp1 = theta1\n",
    "    while counter < ITER_NUM:\n",
    "        temp0 = theta0 - a*(1/m)*np.sum(h(xs) - ys)\n",
    "        temp1 = theta1 - a*(1/m)*np.sum((h(xs) - ys)*xs)\n",
    "        theta0 = temp0\n",
    "        theta1 = temp1\n",
    "        counter += 1\n",
    "\n",
    "    print('y = ' + repr(theta0) + ' + ' + repr(theta1) + ' * x')\n",
    "\n",
    "    yss = h(xs)\n",
    "    plt.plot(xs,ys,'o',xs,yss)\n",
    "    plt.show()"
   ]
  },
  {
   "cell_type": "code",
   "execution_count": 48,
   "metadata": {
    "collapsed": false
   },
   "outputs": [
    {
     "name": "stdout",
     "output_type": "stream",
     "text": [
      "y = 0.45089351730237193 + 0.77450780895822946 * x\n"
     ]
    },
    {
     "data": {
      "image/png": "[encoded data removed]",
      "text/plain": [
       "<matplotlib.figure.Figure at 0x9fe810>"
      ]
     },
     "metadata": {},
     "output_type": "display_data"
    }
   ],
   "source": [
    "# Main\n",
    "xs = np.array([1,2,3,4,5,6,7,8,9,10])\n",
    "ys = np.array([1,2,4,5,3,4,5,5,8,10])\n",
    "linear_regression(xs, ys)"
   ]
  }
 ],
 "metadata": {
  "kernelspec": {
   "display_name": "Python 3",
   "language": "python",
   "name": "python3"
  },
  "language_info": {
   "codemirror_mode": {
    "name": "ipython",
    "version": 3
   },
   "file_extension": ".py",
   "mimetype": "text/x-python",
   "name": "python",
   "nbconvert_exporter": "python",
   "pygments_lexer": "ipython3",
   "version": "3.5.2"
  }
 },
 "nbformat": 4,
 "nbformat_minor": 1
}
